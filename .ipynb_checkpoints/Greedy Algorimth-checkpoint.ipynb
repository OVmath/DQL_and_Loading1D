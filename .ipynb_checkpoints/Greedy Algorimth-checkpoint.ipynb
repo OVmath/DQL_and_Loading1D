{
 "cells": [
  {
   "cell_type": "markdown",
   "id": "8a0d022a",
   "metadata": {},
   "source": [
    "# 1 Next Fit"
   ]
  },
  {
   "cell_type": "code",
   "execution_count": 5,
   "id": "77a9543a",
   "metadata": {},
   "outputs": [
    {
     "name": "stdout",
     "output_type": "stream",
     "text": [
      "[3, 6, 2, 7, 2]\n"
     ]
    }
   ],
   "source": [
    "def NextFit(lens, bin_size): \n",
    "    bins = [bin_size]\n",
    "    tmp = bin_size\n",
    "    for i in lens:\n",
    "        if tmp >= i:\n",
    "            bins[len(bins)-1] -= i\n",
    "            tmp -= i\n",
    "        else:\n",
    "            bins.append(bin_size - i) # Thêm 1 thùng mới\n",
    "            tmp = bin_size - i\n",
    "            \n",
    "    return bins\n",
    "\n",
    "lens = [2, 5, 4, 7, 1, 3, 8]\n",
    "bin_size = 10\n",
    "\n",
    "print(NextFit(lens, bin_size))\n",
    "            \n",
    "    "
   ]
  },
  {
   "cell_type": "code",
   "execution_count": 9,
   "id": "acbfbb89",
   "metadata": {},
   "outputs": [
    {
     "ename": "TypeError",
     "evalue": "object of type 'int' has no len()",
     "output_type": "error",
     "traceback": [
      "\u001b[1;31m---------------------------------------------------------------------------\u001b[0m",
      "\u001b[1;31mTypeError\u001b[0m                                 Traceback (most recent call last)",
      "Cell \u001b[1;32mIn[9], line 20\u001b[0m\n\u001b[0;32m     16\u001b[0m weight \u001b[38;5;241m=\u001b[39m [\u001b[38;5;241m2\u001b[39m, \u001b[38;5;241m5\u001b[39m, \u001b[38;5;241m4\u001b[39m, \u001b[38;5;241m7\u001b[39m, \u001b[38;5;241m1\u001b[39m, \u001b[38;5;241m3\u001b[39m, \u001b[38;5;241m8\u001b[39m]\n\u001b[0;32m     17\u001b[0m c \u001b[38;5;241m=\u001b[39m \u001b[38;5;241m10\u001b[39m\n\u001b[0;32m     19\u001b[0m \u001b[38;5;28mprint\u001b[39m(\u001b[38;5;124m\"\u001b[39m\u001b[38;5;124mNumber of bins required in Next Fit :\u001b[39m\u001b[38;5;124m\"\u001b[39m, \n\u001b[1;32m---> 20\u001b[0m                            \u001b[43mnextfit\u001b[49m\u001b[43m(\u001b[49m\u001b[43mc\u001b[49m\u001b[43m,\u001b[49m\u001b[43m \u001b[49m\u001b[43mweight\u001b[49m\u001b[43m)\u001b[49m)\n",
      "Cell \u001b[1;32mIn[6], line 5\u001b[0m, in \u001b[0;36mnextfit\u001b[1;34m(weight, c)\u001b[0m\n\u001b[0;32m      3\u001b[0m res \u001b[38;5;241m=\u001b[39m \u001b[38;5;241m0\u001b[39m\n\u001b[0;32m      4\u001b[0m rem \u001b[38;5;241m=\u001b[39m c\n\u001b[1;32m----> 5\u001b[0m \u001b[38;5;28;01mfor\u001b[39;00m _ \u001b[38;5;129;01min\u001b[39;00m \u001b[38;5;28mrange\u001b[39m(\u001b[38;5;28;43mlen\u001b[39;49m\u001b[43m(\u001b[49m\u001b[43mweight\u001b[49m\u001b[43m)\u001b[49m):\n\u001b[0;32m      6\u001b[0m     \u001b[38;5;28;01mif\u001b[39;00m rem \u001b[38;5;241m>\u001b[39m\u001b[38;5;241m=\u001b[39m weight[_]:\n\u001b[0;32m      7\u001b[0m         rem \u001b[38;5;241m=\u001b[39m rem \u001b[38;5;241m-\u001b[39m weight[_]\n",
      "\u001b[1;31mTypeError\u001b[0m: object of type 'int' has no len()"
     ]
    }
   ],
   "source": [
    "# Python3 implementation for above approach\n",
    "def next_fit(bin_capacity, items):\n",
    "    bins = [bin_capacity]  # Khởi tạo một thùng rỗng với dung lượng bin_capacity\n",
    "    remaining_capacity = bin_capacity\n",
    "\n",
    "    for item in items:\n",
    "        if item <= remaining_capacity:\n",
    "            remaining_capacity -= item\n",
    "        else:\n",
    "            bins.append(bin_capacity - item)  # Tạo một thùng mới\n",
    "            remaining_capacity = bin_capacity - item\n",
    "\n",
    "    return bins\n",
    " \n",
    "# Driver Code\n",
    "weight = [2, 5, 4, 7, 1, 3, 8]\n",
    "c = 10\n",
    " \n",
    "print(\"Number of bins required in Next Fit :\", \n",
    "                           nextfit(c, weight))\n",
    " \n",
    "# This code is contributed by code_freak"
   ]
  },
  {
   "cell_type": "code",
   "execution_count": null,
   "id": "d7fd5a04",
   "metadata": {},
   "outputs": [],
   "source": []
  }
 ],
 "metadata": {
  "kernelspec": {
   "display_name": "Python 3 (ipykernel)",
   "language": "python",
   "name": "python3"
  },
  "language_info": {
   "codemirror_mode": {
    "name": "ipython",
    "version": 3
   },
   "file_extension": ".py",
   "mimetype": "text/x-python",
   "name": "python",
   "nbconvert_exporter": "python",
   "pygments_lexer": "ipython3",
   "version": "3.10.13"
  }
 },
 "nbformat": 4,
 "nbformat_minor": 5
}
