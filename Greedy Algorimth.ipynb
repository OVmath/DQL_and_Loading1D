{
 "cells": [
  {
   "cell_type": "markdown",
   "id": "a01d030f",
   "metadata": {},
   "source": [
    "# 1 Next Fit"
   ]
  },
  {
   "cell_type": "code",
   "execution_count": 1,
   "id": "cf445566",
   "metadata": {},
   "outputs": [
    {
     "name": "stdout",
     "output_type": "stream",
     "text": [
      "[3, 6, 2, 7, 2, 1]\n"
     ]
    }
   ],
   "source": [
    "def NextFit(lens, bin_size): \n",
    "    bins = [bin_size]\n",
    "    tmp = bin_size\n",
    "    for i in lens:\n",
    "        if tmp >= i:\n",
    "            bins[len(bins)-1] -= i\n",
    "            tmp -= i\n",
    "        else:\n",
    "            bins.append(bin_size - i) # Thêm 1 thùng mới\n",
    "            tmp = bin_size - i\n",
    "            \n",
    "    return bins\n",
    "\n",
    "lens = [2, 5, 4, 7, 1, 3, 8,9]\n",
    "bin_size = 10\n",
    "\n",
    "print(NextFit(lens, bin_size))\n",
    "            \n",
    "    "
   ]
  },
  {
   "cell_type": "markdown",
   "id": "e2a75cf3",
   "metadata": {},
   "source": [
    "# 2 First Fit"
   ]
  },
  {
   "cell_type": "code",
   "execution_count": 2,
   "id": "b237bd08",
   "metadata": {},
   "outputs": [
    {
     "name": "stdout",
     "output_type": "stream",
     "text": [
      "[2, 3, 3, 2, 1]\n"
     ]
    }
   ],
   "source": [
    "def firstFit(lens, n, bin_size):\n",
    "     \n",
    "    count = 0\n",
    "     \n",
    "    bins = [0]*n # n là số ống\n",
    "    # Duyệt các ống từ đầu đến cuối\n",
    "    for i in range(n):\n",
    "       \n",
    "        # Tìm thùng đầu tiên có thể chứa được ống lens[i]\n",
    "        j = 0\n",
    "        while( j < count):\n",
    "            if (bins[j] >= lens[i]):\n",
    "                bins[j] = bins[j] - lens[i]\n",
    "                break\n",
    "            j+=1\n",
    "             \n",
    "        # Nếu không tìm được thùng nào ta sẽ lấy thêm thùng mới để chứa ống\n",
    "        if (j == count):\n",
    "            bins[count] = bin_size - lens[i]\n",
    "            count+=1\n",
    "            \n",
    "    return bins[:count] # Trả về trạng thái những thùng đã sử dụng\n",
    "     \n",
    "lens = [2, 5, 4, 7, 1, 3, 8,9]\n",
    "bin_size = 10\n",
    "n = len(lens)\n",
    "print(firstFit(lens, n, bin_size))"
   ]
  },
  {
   "cell_type": "code",
   "execution_count": null,
   "id": "c937cc18",
   "metadata": {},
   "outputs": [],
   "source": []
  }
 ],
 "metadata": {
  "kernelspec": {
   "display_name": "Python 3 (ipykernel)",
   "language": "python",
   "name": "python3"
  },
  "language_info": {
   "codemirror_mode": {
    "name": "ipython",
    "version": 3
   },
   "file_extension": ".py",
   "mimetype": "text/x-python",
   "name": "python",
   "nbconvert_exporter": "python",
   "pygments_lexer": "ipython3",
   "version": "3.10.13"
  }
 },
 "nbformat": 4,
 "nbformat_minor": 5
}
